{
 "cells": [
  {
   "cell_type": "code",
   "execution_count": 4,
   "metadata": {},
   "outputs": [],
   "source": [
    "import graphviz"
   ]
  },
  {
   "cell_type": "code",
   "execution_count": 6,
   "metadata": {},
   "outputs": [
    {
     "data": {
      "text/plain": [
       "'output.png'"
      ]
     },
     "execution_count": 6,
     "metadata": {},
     "output_type": "execute_result"
    }
   ],
   "source": [
    "dot = graphviz.Digraph(format='png')\n",
    "dot.attr(rankdir='RL')\n",
    "dot.node('aws_instance.example', 'aws_instance.example', shape='rect', fontname='sans-serif')\n",
    "dot.node('aws_key_pair.example', 'aws_key_pair.example', shape='rect', fontname='sans-serif')\n",
    "dot.node('aws_vpc.example', 'aws_vpc.example', shape='rect', fontname='sans-serif')\n",
    "dot.edge('aws_instance.example', 'aws_key_pair.example')\n",
    "\n",
    "dot.render('output')"
   ]
  },
  {
   "cell_type": "code",
   "execution_count": null,
   "metadata": {},
   "outputs": [],
   "source": []
  }
 ],
 "metadata": {
  "kernelspec": {
   "display_name": "prac_env",
   "language": "python",
   "name": "python3"
  },
  "language_info": {
   "codemirror_mode": {
    "name": "ipython",
    "version": 3
   },
   "file_extension": ".py",
   "mimetype": "text/x-python",
   "name": "python",
   "nbconvert_exporter": "python",
   "pygments_lexer": "ipython3",
   "version": "3.12.2"
  }
 },
 "nbformat": 4,
 "nbformat_minor": 2
}
